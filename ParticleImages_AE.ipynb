{
 "cells": [
  {
   "cell_type": "markdown",
   "metadata": {
    "id": "P3DtjEbf8M4I"
   },
   "source": [
    "# Hackathon - Particle Images\n",
    "## Problem Statement\n",
    "*   One of the important aspects of searches for new physics at the Large Hadron Collider (LHC) involves the classification of various High-Energy Particles in collision events\n",
    "*   The goal of this challenge is to develop a model which classifies electron and photon electromagnetic showers as accurately as possible based on the detector images provided in the dataset below (one pixel = one channel of the detector)\n",
    "*   The preferred metric for evaluating the model is ROC curve (Receiver Operating Characteristic curve) and the AUC (Area Under the ROC Curve) score.\n",
    "*   Although we are using Keras Framework in this sample notebook, you are free to choose Machine Learning / Deep Learning Framework of your choice.\n",
    "\n"
   ]
  },
  {
   "cell_type": "markdown",
   "metadata": {
    "id": "g0b6SRpWl2Xh"
   },
   "source": [
    "## Create the appropriate project folder"
   ]
  },
  {
   "cell_type": "markdown",
   "metadata": {
    "id": "BepRE7pn8Du7"
   },
   "source": [
    "# Import modules"
   ]
  },
  {
   "cell_type": "code",
   "execution_count": 1,
   "metadata": {
    "id": "ZnLzC5paz0hb"
   },
   "outputs": [],
   "source": [
    "import numpy as np\n",
    "#np.random.seed(1337)  # for reproducibility\n",
    "import h5py\n",
    "from keras.models import Sequential\n",
    "from tensorflow.keras.optimizers import Adam\n",
    "from keras.initializers import TruncatedNormal\n",
    "from keras.layers import Input, Dense, Dropout, Flatten, Conv2D, MaxPooling2D\n",
    "from keras.callbacks import ReduceLROnPlateau\n",
    "\n",
    "from sklearn.metrics import roc_curve, auc\n",
    "\n",
    "import matplotlib.pyplot as plt"
   ]
  },
  {
   "cell_type": "markdown",
   "metadata": {
    "id": "Az_MoJwZ8K6l"
   },
   "source": [
    "# Keras Model Parameters"
   ]
  },
  {
   "cell_type": "code",
   "execution_count": 2,
   "metadata": {
    "id": "ZzF8AHl_4yUA"
   },
   "outputs": [],
   "source": [
    "lr_init     = 1.e-3    # Initial learning rate\n",
    "batch_size  = 256       # Training batch size\n",
    "train_size  = 1024*25     # Training size\n",
    "valid_size  = 1024     # Validation size\n",
    "test_size   = 1024     # Test size\n",
    "epochs      = 20       # Number of epochs\n",
    "doGPU       = False    # Use GPU"
   ]
  },
  {
   "cell_type": "markdown",
   "metadata": {
    "id": "_jX_l-WmplJx"
   },
   "source": [
    "## It is recommended to use GPU for training and inference if possible."
   ]
  },
  {
   "cell_type": "code",
   "execution_count": 3,
   "metadata": {},
   "outputs": [],
   "source": [
    "import os\n",
    "os.environ[\"CUDA_VISIBLE_DEVICES\"]=\"1\""
   ]
  },
  {
   "cell_type": "code",
   "execution_count": 4,
   "metadata": {
    "id": "PVq1XGr640nJ"
   },
   "outputs": [],
   "source": [
    "if doGPU:\n",
    "    import tensorflow.compat.v1 as tf\n",
    "    from tensorflow.compat.v1.keras.backend import set_session\n",
    "    config = tf.ConfigProto()\n",
    "    config.gpu_options.allow_growth=True\n",
    "    set_session(tf.Session(config=config))"
   ]
  },
  {
   "cell_type": "markdown",
   "metadata": {
    "id": "xwc56kXJ8TLo"
   },
   "source": [
    "# Load Image Data\n",
    "### Two classes of particles: electrons and photons\n",
    "### 32x32 matrices (two channels - hit energy and time) for the two classes of particles electrons and photons impinging on a calorimeter (one calorimetric cell = one pixel).\n",
    "#### Please note that although timing channel is provided, it may not necessarily help the performance of the model."
   ]
  },
  {
   "cell_type": "code",
   "execution_count": 5,
   "metadata": {
    "id": "kr4QIMlt424u"
   },
   "outputs": [],
   "source": [
    "img_rows, img_cols, nb_channels = 32, 32, 2\n",
    "input_dir = './Particle_Images/data'\n",
    "decays = ['SinglePhotonPt50_IMGCROPS_n249k_RHv1', 'SingleElectronPt50_IMGCROPS_n249k_RHv1']\n",
    "\n",
    "def load_data(decays, start, stop):\n",
    "    global input_dir\n",
    "    dsets = [h5py.File('%s/%s.hdf5'%(input_dir,decay)) for decay in decays]\n",
    "    X = np.concatenate([dset['/X'][start:stop] for dset in dsets])\n",
    "    y = np.concatenate([dset['/y'][start:stop] for dset in dsets])\n",
    "    assert len(X) == len(y)\n",
    "    return X, y"
   ]
  },
  {
   "cell_type": "markdown",
   "metadata": {
    "id": "-JpHCOf38fDL"
   },
   "source": [
    "# Configure Training / Validation / Test Sets"
   ]
  },
  {
   "cell_type": "code",
   "execution_count": 6,
   "metadata": {},
   "outputs": [
    {
     "name": "stderr",
     "output_type": "stream",
     "text": [
      "<ipython-input-5-30df6f3ea728>:7: H5pyDeprecationWarning: The default file mode will change to 'r' (read-only) in h5py 3.0. To suppress this warning, pass the mode you need to h5py.File(), or set the global default h5.get_config().default_file_mode, or set the environment variable H5PY_DEFAULT_READONLY=1. Available modes are: 'r', 'r+', 'w', 'w-'/'x', 'a'. See the docs for details.\n",
      "  dsets = [h5py.File('%s/%s.hdf5'%(input_dir,decay)) for decay in decays]\n"
     ]
    }
   ],
   "source": [
    "# Set range of training set\n",
    "train_start, train_stop = 0, train_size\n",
    "assert train_stop > train_start\n",
    "assert (len(decays)*train_size) % batch_size == 0\n",
    "X_train2, y_train = load_data(decays,train_start,train_stop)\n",
    "\n",
    "# Set range of validation set\n",
    "valid_start, valid_stop = 160000, 160000+valid_size\n",
    "assert valid_stop  >  valid_start\n",
    "assert valid_start >= train_stop\n",
    "X_valid2, y_valid = load_data(decays,valid_start,valid_stop)\n",
    "\n",
    "# Set range of test set\n",
    "test_start, test_stop = 204800, 204800+test_size\n",
    "assert test_stop  >  test_start\n",
    "assert test_start >= valid_stop\n",
    "X_test, y_test = load_data(decays,test_start,test_stop)\n",
    "\n",
    "samples_requested = len(decays) * (train_size + valid_size + test_size)\n",
    "samples_available = len(y_train) + len(y_valid) + len(y_test)\n",
    "assert samples_requested == samples_available"
   ]
  },
  {
   "cell_type": "code",
   "execution_count": 7,
   "metadata": {
    "colab": {
     "base_uri": "https://localhost:8080/",
     "height": 71
    },
    "id": "-RTXS58x46Fq",
    "outputId": "3a440b9a-71ad-441b-cf04-29b7a27966d9"
   },
   "outputs": [
    {
     "name": "stderr",
     "output_type": "stream",
     "text": [
      "<ipython-input-5-30df6f3ea728>:7: H5pyDeprecationWarning: The default file mode will change to 'r' (read-only) in h5py 3.0. To suppress this warning, pass the mode you need to h5py.File(), or set the global default h5.get_config().default_file_mode, or set the environment variable H5PY_DEFAULT_READONLY=1. Available modes are: 'r', 'r+', 'w', 'w-'/'x', 'a'. See the docs for details.\n",
      "  dsets = [h5py.File('%s/%s.hdf5'%(input_dir,decay)) for decay in decays]\n"
     ]
    }
   ],
   "source": [
    "# Set range of training set\n",
    "train_start, train_stop = 0, train_size\n",
    "assert train_stop > train_start\n",
    "assert (len(decays)*train_size) % batch_size == 0\n",
    "X_train, y_train = load_data(decays,train_start,train_stop)\n",
    "\n",
    "# Set range of validation set\n",
    "valid_start, valid_stop = 160000, 160000+valid_size\n",
    "assert valid_stop  >  valid_start\n",
    "assert valid_start >= train_stop\n",
    "X_valid, y_valid = load_data(decays,valid_start,valid_stop)\n",
    "\n",
    "# Set range of test set\n",
    "test_start, test_stop = 204800, 204800+test_size\n",
    "assert test_stop  >  test_start\n",
    "assert test_start >= valid_stop\n",
    "X_test, y_test = load_data(decays,test_start,test_stop)\n",
    "\n",
    "samples_requested = len(decays) * (train_size + valid_size + test_size)\n",
    "samples_available = len(y_train) + len(y_valid) + len(y_test)\n",
    "assert samples_requested == samples_available"
   ]
  },
  {
   "cell_type": "markdown",
   "metadata": {
    "id": "UTFIMRnL8w41"
   },
   "source": [
    "# Plot sample of training images\n",
    "### Please note that although timing channel is provided, it may not necessarily help the performance of the model."
   ]
  },
  {
   "cell_type": "code",
   "execution_count": 8,
   "metadata": {
    "colab": {
     "base_uri": "https://localhost:8080/",
     "height": 163
    },
    "id": "e_IDs16U52-C",
    "outputId": "23595fa4-55a5-4ab4-d2be-183ffc3828e9"
   },
   "outputs": [
    {
     "data": {
      "image/png": "[encoded data removed]",
      "text/plain": [
       "<Figure size 432x288 with 2 Axes>"
      ]
     },
     "metadata": {
      "needs_background": "light"
     },
     "output_type": "display_data"
    }
   ],
   "source": [
    "plt.figure(1)\n",
    "\n",
    "plt.subplot(221)\n",
    "plt.imshow(X_train[1,:,:,0])\n",
    "plt.title(\"Channel 0: Energy\")  # Energy\n",
    "plt.grid(True)\n",
    "\n",
    "plt.subplot(222)\n",
    "plt.imshow(X_train[1,:,:,1])\n",
    "plt.title(\"Channel 1: Time\")  # Time\n",
    "plt.grid(True)\n",
    "\n",
    "\n",
    "plt.show()"
   ]
  },
  {
   "cell_type": "markdown",
   "metadata": {
    "id": "ke_NQLiz83jZ"
   },
   "source": [
    "# Define CNN Model\n",
    "## This is a sample model. You can experiment with the model and try various architectures and other models to achieve the highest possible performance.  "
   ]
  },
  {
   "cell_type": "code",
   "execution_count": 9,
   "metadata": {
    "colab": {
     "base_uri": "https://localhost:8080/",
     "height": 561
    },
    "id": "OlIJuxXG7KDk",
    "outputId": "3ecb4353-6bd2-44dc-9250-aaff64169316"
   },
   "outputs": [
    {
     "name": "stdout",
     "output_type": "stream",
     "text": [
      "Model: \"model\"\n",
      "_________________________________________________________________\n",
      " Layer (type)                Output Shape              Param #   \n",
      "=================================================================\n",
      " input_1 (InputLayer)        [(None, 32, 32, 2)]       0         \n",
      "                                                                 \n",
      " conv2d (Conv2D)             (None, 32, 32, 16)        304       \n",
      "                                                                 \n",
      " max_pooling2d (MaxPooling2D  (None, 16, 16, 16)       0         \n",
      " )                                                               \n",
      "                                                                 \n",
      " conv2d_1 (Conv2D)           (None, 16, 16, 8)         1160      \n",
      "                                                                 \n",
      " max_pooling2d_1 (MaxPooling  (None, 8, 8, 8)          0         \n",
      " 2D)                                                             \n",
      "                                                                 \n",
      " flatten (Flatten)           (None, 512)               0         \n",
      "                                                                 \n",
      " dense (Dense)               (None, 128)               65664     \n",
      "                                                                 \n",
      " dense_1 (Dense)             (None, 3)                 387       \n",
      "                                                                 \n",
      " dense_2 (Dense)             (None, 128)               512       \n",
      "                                                                 \n",
      " dense_3 (Dense)             (None, 128)               16512     \n",
      "                                                                 \n",
      " dense_4 (Dense)             (None, 512)               66048     \n",
      "                                                                 \n",
      " reshape (Reshape)           (None, 8, 8, 8)           0         \n",
      "                                                                 \n",
      " conv2d_2 (Conv2D)           (None, 8, 8, 8)           584       \n",
      "                                                                 \n",
      " up_sampling2d (UpSampling2D  (None, 16, 16, 8)        0         \n",
      " )                                                               \n",
      "                                                                 \n",
      " conv2d_3 (Conv2D)           (None, 16, 16, 16)        1168      \n",
      "                                                                 \n",
      " up_sampling2d_1 (UpSampling  (None, 32, 32, 16)       0         \n",
      " 2D)                                                             \n",
      "                                                                 \n",
      " conv2d_4 (Conv2D)           (None, 32, 32, 2)         290       \n",
      "                                                                 \n",
      "=================================================================\n",
      "Total params: 152,629\n",
      "Trainable params: 152,629\n",
      "Non-trainable params: 0\n",
      "_________________________________________________________________\n"
     ]
    }
   ],
   "source": [
    "from keras.layers import Input, Conv2D, MaxPooling2D, UpSampling2D, Reshape, Dense, Flatten\n",
    "from keras.models import Model\n",
    "\n",
    "# 입력 이미지의 크기\n",
    "input_shape = (32, 32, 2)\n",
    "\n",
    "# 인코더(Encoder) 구성\n",
    "input_img = Input(shape=input_shape)\n",
    "x = Conv2D(16, (3, 3), activation='relu', padding='same')(input_img)\n",
    "x = MaxPooling2D((2, 2), padding='same')(x)\n",
    "x = Conv2D(8, (3, 3), activation='relu', padding='same')(x)\n",
    "x = MaxPooling2D((2, 2), padding='same')(x)\n",
    "x = Flatten()(x)\n",
    "x = Dense(128, activation='relu')(x)\n",
    "encoded = Dense(3, activation='relu')(x)\n",
    "\n",
    "# 디코더(Decoder) 구성\n",
    "x = Dense(128, activation='relu')(encoded)\n",
    "x = Dense(128, activation='relu')(x)\n",
    "x = Dense(8*8*8, activation='relu')(x)\n",
    "x = Reshape((8, 8, 8))(x)\n",
    "x = Conv2D(8, (3, 3), activation='relu', padding='same')(x)\n",
    "x = UpSampling2D((2, 2))(x)\n",
    "x = Conv2D(16, (3, 3), activation='relu', padding='same')(x)\n",
    "x = UpSampling2D((2, 2))(x)\n",
    "decoded = Conv2D(2, (3, 3), activation='sigmoid', padding='same')(x)\n",
    "\n",
    "# 오토인코더(Autoencoder) 모델 생성\n",
    "autoencoder = Model(input_img, decoded)\n",
    "\n",
    "# 오토인코더 컴파일\n",
    "autoencoder.compile(optimizer='adam', loss='MeanSquaredError')\n",
    "\n",
    "# 모델 요약 정보 출력\n",
    "autoencoder.summary()"
   ]
  },
  {
   "cell_type": "code",
   "execution_count": 10,
   "metadata": {
    "colab": {
     "base_uri": "https://localhost:8080/",
     "height": 697
    },
    "id": "ZGuyM25L7uc0",
    "outputId": "5e81bb7d-8edb-41ce-a0f5-f4596de7c588"
   },
   "outputs": [
    {
     "name": "stdout",
     "output_type": "stream",
     "text": [
      "Epoch 1/20\n",
      "200/200 [==============================] - 6s 11ms/step - loss: 0.0250 - val_loss: 0.0025 - lr: 0.0010\n",
      "Epoch 2/20\n",
      "200/200 [==============================] - 2s 9ms/step - loss: 0.0026 - val_loss: 0.0025 - lr: 0.0010\n",
      "Epoch 3/20\n",
      "200/200 [==============================] - 2s 9ms/step - loss: 0.0026 - val_loss: 0.0025 - lr: 0.0010\n",
      "Epoch 4/20\n",
      "200/200 [==============================] - 2s 9ms/step - loss: 0.0026 - val_loss: 0.0025 - lr: 2.0000e-04\n",
      "Epoch 5/20\n",
      "200/200 [==============================] - 2s 8ms/step - loss: 0.0026 - val_loss: 0.0025 - lr: 2.0000e-04\n",
      "Epoch 6/20\n",
      "200/200 [==============================] - 2s 9ms/step - loss: 0.0026 - val_loss: 0.0025 - lr: 4.0000e-05\n",
      "Epoch 7/20\n",
      "200/200 [==============================] - 2s 9ms/step - loss: 0.0026 - val_loss: 0.0025 - lr: 4.0000e-05\n",
      "Epoch 8/20\n",
      "200/200 [==============================] - 2s 8ms/step - loss: 0.0026 - val_loss: 0.0025 - lr: 8.0000e-06\n",
      "Epoch 9/20\n",
      "200/200 [==============================] - 2s 9ms/step - loss: 0.0026 - val_loss: 0.0025 - lr: 8.0000e-06\n",
      "Epoch 10/20\n",
      "200/200 [==============================] - 2s 8ms/step - loss: 0.0026 - val_loss: 0.0025 - lr: 1.6000e-06\n",
      "Epoch 11/20\n",
      "200/200 [==============================] - 2s 10ms/step - loss: 0.0026 - val_loss: 0.0025 - lr: 1.6000e-06\n",
      "Epoch 12/20\n",
      "200/200 [==============================] - 2s 9ms/step - loss: 0.0026 - val_loss: 0.0025 - lr: 1.0000e-06\n",
      "Epoch 13/20\n",
      "200/200 [==============================] - 2s 8ms/step - loss: 0.0026 - val_loss: 0.0025 - lr: 1.0000e-06\n",
      "Epoch 14/20\n",
      "200/200 [==============================] - 2s 8ms/step - loss: 0.0026 - val_loss: 0.0025 - lr: 1.0000e-06\n",
      "Epoch 15/20\n",
      "200/200 [==============================] - 2s 8ms/step - loss: 0.0026 - val_loss: 0.0025 - lr: 1.0000e-06\n",
      "Epoch 16/20\n",
      "200/200 [==============================] - 2s 9ms/step - loss: 0.0026 - val_loss: 0.0025 - lr: 1.0000e-06\n",
      "Epoch 17/20\n",
      "200/200 [==============================] - 2s 9ms/step - loss: 0.0026 - val_loss: 0.0025 - lr: 1.0000e-06\n",
      "Epoch 18/20\n",
      "200/200 [==============================] - 2s 9ms/step - loss: 0.0026 - val_loss: 0.0025 - lr: 1.0000e-06\n",
      "Epoch 19/20\n",
      "200/200 [==============================] - 2s 9ms/step - loss: 0.0026 - val_loss: 0.0025 - lr: 1.0000e-06\n",
      "Epoch 20/20\n",
      "200/200 [==============================] - 2s 8ms/step - loss: 0.0026 - val_loss: 0.0025 - lr: 1.0000e-06\n"
     ]
    }
   ],
   "source": [
    "reduce_lr = ReduceLROnPlateau(monitor='val_loss', factor=0.2, patience=2, min_lr=1.e-6)\n",
    "history=autoencoder.fit(X_train, X_train2,\\\n",
    "        batch_size=batch_size,\\\n",
    "        epochs=epochs,\\\n",
    "        validation_data=(X_valid, X_valid2),\\\n",
    "        callbacks=[reduce_lr],\\\n",
    "        verbose=1, shuffle=True)"
   ]
  },
  {
   "cell_type": "code",
   "execution_count": 27,
   "metadata": {},
   "outputs": [],
   "source": [
    "encoder = Model(inputs=autoencoder.input, outputs=autoencoder.get_layer('dense_1').output)"
   ]
  },
  {
   "cell_type": "code",
   "execution_count": 29,
   "metadata": {
    "tags": []
   },
   "outputs": [
    {
     "data": {
      "text/plain": [
       "<tf.Tensor: shape=(100, 3), dtype=float32, numpy=\n",
       "array([[ 0.       , 17.505453 ,  6.419409 ],\n",
       "       [ 0.       , 15.266569 ,  5.7462068],\n",
       "       [ 0.       , 17.28466  ,  6.396924 ],\n",
       "       [ 0.       , 17.16828  ,  6.495934 ],\n",
       "       [ 0.       , 19.983389 ,  7.433075 ],\n",
       "       [ 0.       , 15.809297 ,  6.0559826],\n",
       "       [ 0.       , 13.5938425,  5.1812778],\n",
       "       [ 0.       , 16.977541 ,  6.5085897],\n",
       "       [ 0.       , 19.36741  ,  7.3009763],\n",
       "       [ 0.       , 18.824774 ,  7.1276116],\n",
       "       [ 0.       , 16.065577 ,  6.17722  ],\n",
       "       [ 0.       , 15.134415 ,  5.624387 ],\n",
       "       [ 0.       , 24.241083 ,  8.847046 ],\n",
       "       [ 0.       , 14.572822 ,  5.510445 ],\n",
       "       [ 0.       , 18.226648 ,  6.736065 ],\n",
       "       [ 0.       , 16.405416 ,  6.2932553],\n",
       "       [ 0.       , 16.95407  ,  6.456084 ],\n",
       "       [ 0.       , 15.631613 ,  5.9847026],\n",
       "       [ 0.       , 16.193857 ,  6.0758514],\n",
       "       [ 0.       , 17.158205 ,  6.4390526],\n",
       "       [ 0.       , 17.599705 ,  6.4930024],\n",
       "       [ 0.       , 14.9776535,  5.6400266],\n",
       "       [ 0.       , 14.976626 ,  5.725968 ],\n",
       "       [ 0.       , 17.323816 ,  6.585526 ],\n",
       "       [ 0.       , 13.735486 ,  5.2625384],\n",
       "       [ 0.       , 15.412057 ,  5.9128838],\n",
       "       [ 0.       , 18.620943 ,  6.9307227],\n",
       "       [ 0.       , 17.35773  ,  6.553929 ],\n",
       "       [ 0.       , 15.730924 ,  5.956906 ],\n",
       "       [ 0.       , 19.078327 ,  7.0948253],\n",
       "       [ 0.       , 15.471985 ,  5.8930173],\n",
       "       [ 0.       , 17.693037 ,  6.6863894],\n",
       "       [ 0.       , 18.632618 ,  7.0206637],\n",
       "       [ 0.       , 13.967956 ,  5.298205 ],\n",
       "       [ 0.       , 17.51177  ,  6.6175723],\n",
       "       [ 0.       , 15.193004 ,  5.792141 ],\n",
       "       [ 0.       , 12.681958 ,  4.7745376],\n",
       "       [ 0.       , 15.007947 ,  5.7241864],\n",
       "       [ 0.       , 17.525143 ,  6.5654373],\n",
       "       [ 0.       , 17.243895 ,  6.4303946],\n",
       "       [ 0.       , 16.890898 ,  6.313371 ],\n",
       "       [ 0.       , 15.0377245,  5.757958 ],\n",
       "       [ 0.       , 15.48643  ,  5.963293 ],\n",
       "       [ 0.       , 22.738329 ,  8.630845 ],\n",
       "       [ 0.       , 15.2355585,  5.8287625],\n",
       "       [ 0.       , 14.510392 ,  5.5523934],\n",
       "       [ 0.       , 14.883758 ,  5.6570535],\n",
       "       [ 0.       , 22.12246  ,  8.211695 ],\n",
       "       [ 0.       , 20.99895  ,  7.7914796],\n",
       "       [ 0.       , 19.5936   ,  7.2692776],\n",
       "       [ 0.       , 14.5579815,  5.5302014],\n",
       "       [ 0.       , 17.888577 ,  6.6884837],\n",
       "       [ 0.       , 15.979636 ,  6.063228 ],\n",
       "       [ 0.       , 16.688227 ,  6.2293553],\n",
       "       [ 0.       , 16.514618 ,  6.1659293],\n",
       "       [ 0.       , 16.91195  ,  6.4527564],\n",
       "       [ 0.       , 16.111622 ,  6.081503 ],\n",
       "       [ 0.       , 15.974807 ,  6.13041  ],\n",
       "       [ 0.       , 16.393408 ,  6.2485366],\n",
       "       [ 0.       , 16.045837 ,  6.1803966],\n",
       "       [ 0.       , 16.784891 ,  6.286329 ],\n",
       "       [ 0.       , 15.672469 ,  5.9966235],\n",
       "       [ 0.       , 16.181458 ,  6.0647435],\n",
       "       [ 0.       , 18.163149 ,  6.871015 ],\n",
       "       [ 0.       , 17.974329 ,  6.751122 ],\n",
       "       [ 0.       , 16.079048 ,  6.046659 ],\n",
       "       [ 0.       , 18.404337 ,  7.0518346],\n",
       "       [ 0.       , 17.401781 ,  6.643531 ],\n",
       "       [ 0.       , 15.070769 ,  5.6734786],\n",
       "       [ 0.       , 14.385879 ,  5.498294 ],\n",
       "       [ 0.       , 15.392858 ,  5.854968 ],\n",
       "       [ 0.       , 16.991755 ,  6.49856  ],\n",
       "       [ 0.       , 22.364609 ,  8.273305 ],\n",
       "       [ 0.       , 16.56818  ,  6.203852 ],\n",
       "       [ 0.       , 14.829537 ,  5.607598 ],\n",
       "       [ 0.       , 21.593512 ,  8.093928 ],\n",
       "       [ 0.       , 16.78465  ,  6.339685 ],\n",
       "       [ 0.       , 14.86291  ,  5.6537876],\n",
       "       [ 0.       , 18.00995  ,  6.7292066],\n",
       "       [ 0.       , 15.364215 ,  5.8613486],\n",
       "       [ 0.       , 15.535129 ,  5.967607 ],\n",
       "       [ 0.       , 15.551902 ,  5.9650054],\n",
       "       [ 0.       , 15.475545 ,  5.827169 ],\n",
       "       [ 0.       , 18.437998 ,  6.9979854],\n",
       "       [ 0.       , 17.29455  ,  6.5839453],\n",
       "       [ 0.       , 16.307245 ,  6.1914296],\n",
       "       [ 0.       , 14.235822 ,  5.45272  ],\n",
       "       [ 0.       , 18.30107  ,  6.9137225],\n",
       "       [ 0.       , 16.162588 ,  6.0702477],\n",
       "       [ 0.       , 18.020586 ,  6.837132 ],\n",
       "       [ 0.       , 15.877927 ,  6.0325913],\n",
       "       [ 0.       , 19.931639 ,  7.2023635],\n",
       "       [ 0.       , 16.174734 ,  6.1902413],\n",
       "       [ 0.       , 15.798046 ,  6.029321 ],\n",
       "       [ 0.       , 14.926159 ,  5.648538 ],\n",
       "       [ 0.       , 14.945689 ,  5.653316 ],\n",
       "       [ 0.       , 17.821207 ,  6.664718 ],\n",
       "       [ 0.       , 16.65552  ,  6.2195477],\n",
       "       [ 0.       , 18.50347  ,  7.081015 ],\n",
       "       [ 0.       , 14.42246  ,  5.541763 ]], dtype=float32)>"
      ]
     },
     "execution_count": 29,
     "metadata": {},
     "output_type": "execute_result"
    }
   ],
   "source": [
    "encoder(X_train[:2048])[:100]"
   ]
  }
 ],
 "metadata": {
  "accelerator": "GPU",
  "colab": {
   "name": "ParticleImages.ipynb",
   "provenance": [],
   "toc_visible": true
  },
  "kernelspec": {
   "display_name": "Python 3",
   "language": "python",
   "name": "python3"
  },
  "language_info": {
   "codemirror_mode": {
    "name": "ipython",
    "version": 3
   },
   "file_extension": ".py",
   "mimetype": "text/x-python",
   "name": "python",
   "nbconvert_exporter": "python",
   "pygments_lexer": "ipython3",
   "version": "3.8.8"
  }
 },
 "nbformat": 4,
 "nbformat_minor": 4
}
