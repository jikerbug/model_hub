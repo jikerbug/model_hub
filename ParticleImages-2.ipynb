{
 "cells": [
  {
   "cell_type": "markdown",
   "metadata": {
    "id": "P3DtjEbf8M4I"
   },
   "source": [
    "# Hackathon - Particle Images\n",
    "## Problem Statement\n",
    "*   One of the important aspects of searches for new physics at the Large Hadron Collider (LHC) involves the classification of various High-Energy Particles in collision events\n",
    "*   The goal of this challenge is to develop a model which classifies electron and photon electromagnetic showers as accurately as possible based on the detector images provided in the dataset below (one pixel = one channel of the detector)\n",
    "*   The preferred metric for evaluating the model is ROC curve (Receiver Operating Characteristic curve) and the AUC (Area Under the ROC Curve) score.\n",
    "*   Although we are using Keras Framework in this sample notebook, you are free to choose Machine Learning / Deep Learning Framework of your choice.\n",
    "\n"
   ]
  },
  {
   "cell_type": "markdown",
   "metadata": {
    "id": "g0b6SRpWl2Xh"
   },
   "source": [
    "## Create the appropriate project folder"
   ]
  },
  {
   "cell_type": "markdown",
   "metadata": {
    "id": "BepRE7pn8Du7"
   },
   "source": [
    "# Import modules"
   ]
  },
  {
   "cell_type": "code",
   "execution_count": 1,
   "metadata": {
    "id": "ZnLzC5paz0hb"
   },
   "outputs": [],
   "source": [
    "import numpy as np\n",
    "#np.random.seed(1337)  # for reproducibility\n",
    "import h5py\n",
    "import keras\n",
    "from keras.models import Sequential\n",
    "from tensorflow.keras.optimizers import Adam\n",
    "from keras.initializers import TruncatedNormal\n",
    "from keras.layers import Input, Dense, Dropout, Flatten, Conv2D, MaxPooling2D\n",
    "from keras.callbacks import ReduceLROnPlateau\n",
    "\n",
    "from sklearn.metrics import roc_curve, auc\n",
    "\n",
    "import matplotlib.pyplot as plt"
   ]
  },
  {
   "cell_type": "markdown",
   "metadata": {
    "id": "Az_MoJwZ8K6l"
   },
   "source": [
    "# Keras Model Parameters"
   ]
  },
  {
   "cell_type": "code",
   "execution_count": 2,
   "metadata": {
    "id": "ZzF8AHl_4yUA"
   },
   "outputs": [],
   "source": [
    "lr_init     = 1.e-3    # Initial learning rate\n",
    "batch_size  = 1024       # Training batch size\n",
    "train_size  = 1024*25     # Training size\n",
    "valid_size  = 1024     # Validation size\n",
    "test_size   = 1024     # Test size\n",
    "epochs      = 20       # Number of epochs\n",
    "doGPU       = False    # Use GPU"
   ]
  },
  {
   "cell_type": "markdown",
   "metadata": {
    "id": "_jX_l-WmplJx"
   },
   "source": [
    "## It is recommended to use GPU for training and inference if possible."
   ]
  },
  {
   "cell_type": "code",
   "execution_count": 3,
   "metadata": {},
   "outputs": [],
   "source": [
    "import os\n",
    "os.environ[\"CUDA_VISIBLE_DEVICES\"]=\"1\""
   ]
  },
  {
   "cell_type": "code",
   "execution_count": 4,
   "metadata": {
    "id": "PVq1XGr640nJ"
   },
   "outputs": [],
   "source": [
    "if doGPU:\n",
    "    import tensorflow.compat.v1 as tf\n",
    "    from tensorflow.compat.v1.keras.backend import set_session\n",
    "    config = tf.ConfigProto()\n",
    "    config.gpu_options.allow_growth=True\n",
    "    set_session(tf.Session(config=config))"
   ]
  },
  {
   "cell_type": "markdown",
   "metadata": {
    "id": "xwc56kXJ8TLo"
   },
   "source": [
    "# Load Image Data\n",
    "### Two classes of particles: electrons and photons\n",
    "### 32x32 matrices (two channels - hit energy and time) for the two classes of particles electrons and photons impinging on a calorimeter (one calorimetric cell = one pixel).\n",
    "#### Please note that although timing channel is provided, it may not necessarily help the performance of the model."
   ]
  },
  {
   "cell_type": "code",
   "execution_count": 5,
   "metadata": {
    "id": "kr4QIMlt424u"
   },
   "outputs": [],
   "source": [
    "img_rows, img_cols, nb_channels = 32, 32, 2\n",
    "input_dir = './Particle_Images/data'\n",
    "decays = ['SinglePhotonPt50_IMGCROPS_n249k_RHv1', 'SingleElectronPt50_IMGCROPS_n249k_RHv1']\n",
    "\n",
    "def load_data(decays, start, stop):\n",
    "    global input_dir\n",
    "    dsets = [h5py.File('%s/%s.hdf5'%(input_dir,decay)) for decay in decays]\n",
    "    X = np.concatenate([dset['/X'][start:stop] for dset in dsets])\n",
    "    y = np.concatenate([dset['/y'][start:stop] for dset in dsets])\n",
    "    assert len(X) == len(y)\n",
    "    return X, y"
   ]
  },
  {
   "cell_type": "markdown",
   "metadata": {
    "id": "-JpHCOf38fDL"
   },
   "source": [
    "# Configure Training / Validation / Test Sets"
   ]
  },
  {
   "cell_type": "code",
   "execution_count": 6,
   "metadata": {
    "colab": {
     "base_uri": "https://localhost:8080/",
     "height": 71
    },
    "id": "-RTXS58x46Fq",
    "outputId": "3a440b9a-71ad-441b-cf04-29b7a27966d9"
   },
   "outputs": [
    {
     "name": "stderr",
     "output_type": "stream",
     "text": [
      "<ipython-input-5-30df6f3ea728>:7: H5pyDeprecationWarning: The default file mode will change to 'r' (read-only) in h5py 3.0. To suppress this warning, pass the mode you need to h5py.File(), or set the global default h5.get_config().default_file_mode, or set the environment variable H5PY_DEFAULT_READONLY=1. Available modes are: 'r', 'r+', 'w', 'w-'/'x', 'a'. See the docs for details.\n",
      "  dsets = [h5py.File('%s/%s.hdf5'%(input_dir,decay)) for decay in decays]\n"
     ]
    }
   ],
   "source": [
    "# Set range of training set\n",
    "train_start, train_stop = 0, train_size\n",
    "assert train_stop > train_start\n",
    "assert (len(decays)*train_size) % batch_size == 0\n",
    "X_train, y_train = load_data(decays,train_start,train_stop)\n",
    "\n",
    "# Set range of validation set\n",
    "valid_start, valid_stop = 160000, 160000+valid_size\n",
    "assert valid_stop  >  valid_start\n",
    "assert valid_start >= train_stop\n",
    "X_valid, y_valid = load_data(decays,valid_start,valid_stop)\n",
    "\n",
    "# Set range of test set\n",
    "test_start, test_stop = 204800, 204800+test_size\n",
    "assert test_stop  >  test_start\n",
    "assert test_start >= valid_stop\n",
    "X_test, y_test = load_data(decays,test_start,test_stop)\n",
    "\n",
    "samples_requested = len(decays) * (train_size + valid_size + test_size)\n",
    "samples_available = len(y_train) + len(y_valid) + len(y_test)\n",
    "assert samples_requested == samples_available"
   ]
  },
  {
   "cell_type": "markdown",
   "metadata": {
    "id": "UTFIMRnL8w41"
   },
   "source": [
    "# Plot sample of training images\n",
    "### Please note that although timing channel is provided, it may not necessarily help the performance of the model."
   ]
  },
  {
   "cell_type": "code",
   "execution_count": 7,
   "metadata": {
    "colab": {
     "base_uri": "https://localhost:8080/",
     "height": 163
    },
    "id": "e_IDs16U52-C",
    "outputId": "23595fa4-55a5-4ab4-d2be-183ffc3828e9"
   },
   "outputs": [
    {
     "data": {
      "image/png": "[encoded data removed]",
      "text/plain": [
       "<Figure size 432x288 with 2 Axes>"
      ]
     },
     "metadata": {
      "needs_background": "light"
     },
     "output_type": "display_data"
    }
   ],
   "source": [
    "plt.figure(1)\n",
    "\n",
    "plt.subplot(221)\n",
    "plt.imshow(X_train[1,:,:,0])\n",
    "plt.title(\"Channel 0: Energy\")  # Energy\n",
    "plt.grid(True)\n",
    "\n",
    "plt.subplot(222)\n",
    "plt.imshow(X_train[1,:,:,1])\n",
    "plt.title(\"Channel 1: Time\")  # Time\n",
    "plt.grid(True)\n",
    "\n",
    "\n",
    "plt.show()"
   ]
  },
  {
   "cell_type": "markdown",
   "metadata": {
    "id": "ke_NQLiz83jZ"
   },
   "source": [
    "# Define CNN Model\n",
    "## This is a sample model. You can experiment with the model and try various architectures and other models to achieve the highest possible performance.  "
   ]
  },
  {
   "cell_type": "code",
   "execution_count": 19,
   "metadata": {
    "colab": {
     "base_uri": "https://localhost:8080/",
     "height": 561
    },
    "id": "OlIJuxXG7KDk",
    "outputId": "3ecb4353-6bd2-44dc-9250-aaff64169316"
   },
   "outputs": [
    {
     "name": "stdout",
     "output_type": "stream",
     "text": [
      "Model: \"sequential_1\"\n",
      "_________________________________________________________________\n",
      " Layer (type)                Output Shape              Param #   \n",
      "=================================================================\n",
      " conv2d_6 (Conv2D)           (None, 32, 32, 32)        608       \n",
      "                                                                 \n",
      " conv2d_7 (Conv2D)           (None, 32, 32, 32)        9248      \n",
      "                                                                 \n",
      " max_pooling2d_3 (MaxPooling  (None, 16, 16, 32)       0         \n",
      " 2D)                                                             \n",
      "                                                                 \n",
      " conv2d_8 (Conv2D)           (None, 16, 16, 64)        18496     \n",
      "                                                                 \n",
      " conv2d_9 (Conv2D)           (None, 16, 16, 64)        36928     \n",
      "                                                                 \n",
      " max_pooling2d_4 (MaxPooling  (None, 8, 8, 64)         0         \n",
      " 2D)                                                             \n",
      "                                                                 \n",
      " conv2d_10 (Conv2D)          (None, 8, 8, 128)         73856     \n",
      "                                                                 \n",
      " conv2d_11 (Conv2D)          (None, 8, 8, 128)         147584    \n",
      "                                                                 \n",
      " max_pooling2d_5 (MaxPooling  (None, 4, 4, 128)        0         \n",
      " 2D)                                                             \n",
      "                                                                 \n",
      " flatten_1 (Flatten)         (None, 2048)              0         \n",
      "                                                                 \n",
      " dense_5 (Dense)             (None, 512)               1049088   \n",
      "                                                                 \n",
      " dense_6 (Dense)             (None, 256)               131328    \n",
      "                                                                 \n",
      " dense_7 (Dense)             (None, 128)               32896     \n",
      "                                                                 \n",
      " dense_8 (Dense)             (None, 3)                 387       \n",
      "                                                                 \n",
      " dense_9 (Dense)             (None, 1)                 4         \n",
      "                                                                 \n",
      "=================================================================\n",
      "Total params: 1,500,423\n",
      "Trainable params: 1,500,423\n",
      "Non-trainable params: 0\n",
      "_________________________________________________________________\n"
     ]
    },
    {
     "name": "stderr",
     "output_type": "stream",
     "text": [
      "/root/anaconda3/lib/python3.8/site-packages/keras/optimizer_v2/adam.py:105: UserWarning: The `lr` argument is deprecated, use `learning_rate` instead.\n",
      "  super(Adam, self).__init__(name, **kwargs)\n"
     ]
    }
   ],
   "source": [
    "### Define Convolutional Neural Network (CNN) Model ###\n",
    "\n",
    "model = Sequential()\n",
    "model.add(Conv2D(32, activation='relu', kernel_size=3, padding='same', kernel_initializer='TruncatedNormal', input_shape=(img_rows, img_cols, nb_channels)))\n",
    "model.add(Conv2D(32, activation='relu', kernel_size=3, padding='same', kernel_initializer='TruncatedNormal'))\n",
    "model.add(MaxPooling2D(pool_size=(2, 2)))\n",
    "model.add(Conv2D(64, activation='relu', kernel_size=3, padding='same', kernel_initializer='TruncatedNormal'))\n",
    "model.add(Conv2D(64, activation='relu', kernel_size=3, padding='same', kernel_initializer='TruncatedNormal'))\n",
    "model.add(MaxPooling2D(pool_size=(2, 2)))\n",
    "model.add(Conv2D(128, activation='relu', kernel_size=3, padding='same', kernel_initializer='TruncatedNormal'))\n",
    "model.add(Conv2D(128, activation='relu', kernel_size=3, padding='same', kernel_initializer='TruncatedNormal'))\n",
    "model.add(MaxPooling2D(pool_size=(2, 2)))\n",
    "model.add(Flatten())\n",
    "model.add(Dense(512, activation='relu', kernel_initializer='TruncatedNormal'))\n",
    "model.add(Dropout(0.2))\n",
    "model.add(Dense(256, activation='relu', kernel_initializer='TruncatedNormal'))\n",
    "model.add(Dropout(0.2))\n",
    "model.add(Dense(128, activation='relu', kernel_initializer='TruncatedNormal'))\n",
    "model.add(Dropout(0.2))\n",
    "model.add(Dense(3, activation='relu', kernel_initializer='TruncatedNormal'))\n",
    "model.add(Dense(1, activation='sigmoid', kernel_initializer='TruncatedNormal'))\n",
    "model.compile(loss='binary_crossentropy', optimizer=Adam(lr=lr_init), metrics=['accuracy'])\n",
    "model.summary()"
   ]
  },
  {
   "cell_type": "code",
   "execution_count": 20,
   "metadata": {
    "colab": {
     "base_uri": "https://localhost:8080/",
     "height": 697
    },
    "id": "ZGuyM25L7uc0",
    "outputId": "5e81bb7d-8edb-41ce-a0f5-f4596de7c588"
   },
   "outputs": [
    {
     "name": "stdout",
     "output_type": "stream",
     "text": [
      "Epoch 1/20\n",
      "50/50 [==============================] - 2s 20ms/step - loss: 0.6915 - accuracy: 0.5160 - val_loss: 0.6877 - val_accuracy: 0.5586 - lr: 0.0010\n",
      "Epoch 2/20\n",
      "50/50 [==============================] - 1s 17ms/step - loss: 0.6852 - accuracy: 0.5617 - val_loss: 0.6857 - val_accuracy: 0.5591 - lr: 0.0010\n",
      "Epoch 3/20\n",
      "50/50 [==============================] - 1s 17ms/step - loss: 0.6813 - accuracy: 0.5813 - val_loss: 0.6787 - val_accuracy: 0.5991 - lr: 0.0010\n",
      "Epoch 4/20\n",
      "50/50 [==============================] - 1s 17ms/step - loss: 0.6745 - accuracy: 0.6093 - val_loss: 0.6712 - val_accuracy: 0.6172 - lr: 0.0010\n",
      "Epoch 5/20\n",
      "50/50 [==============================] - 1s 17ms/step - loss: 0.6673 - accuracy: 0.6227 - val_loss: 0.6622 - val_accuracy: 0.6372 - lr: 0.0010\n",
      "Epoch 6/20\n",
      "50/50 [==============================] - 1s 17ms/step - loss: 0.6568 - accuracy: 0.6435 - val_loss: 0.6616 - val_accuracy: 0.6299 - lr: 0.0010\n",
      "Epoch 7/20\n",
      "50/50 [==============================] - 1s 20ms/step - loss: 0.6474 - accuracy: 0.6564 - val_loss: 0.6502 - val_accuracy: 0.6528 - lr: 0.0010\n",
      "Epoch 8/20\n",
      "50/50 [==============================] - 1s 17ms/step - loss: 0.6334 - accuracy: 0.6771 - val_loss: 0.6305 - val_accuracy: 0.6792 - lr: 0.0010\n",
      "Epoch 9/20\n",
      "50/50 [==============================] - 1s 17ms/step - loss: 0.6248 - accuracy: 0.6856 - val_loss: 0.6251 - val_accuracy: 0.6768 - lr: 0.0010\n",
      "Epoch 10/20\n",
      "50/50 [==============================] - 1s 17ms/step - loss: 0.6195 - accuracy: 0.6900 - val_loss: 0.6283 - val_accuracy: 0.6738 - lr: 0.0010\n",
      "Epoch 11/20\n",
      "50/50 [==============================] - 1s 17ms/step - loss: 0.6108 - accuracy: 0.6984 - val_loss: 0.6165 - val_accuracy: 0.6914 - lr: 0.0010\n",
      "Epoch 12/20\n",
      "50/50 [==============================] - 1s 20ms/step - loss: 0.6060 - accuracy: 0.6990 - val_loss: 0.6165 - val_accuracy: 0.6890 - lr: 0.0010\n",
      "Epoch 13/20\n",
      "50/50 [==============================] - 1s 17ms/step - loss: 0.6016 - accuracy: 0.7044 - val_loss: 0.6124 - val_accuracy: 0.6865 - lr: 0.0010\n",
      "Epoch 14/20\n",
      "50/50 [==============================] - 1s 17ms/step - loss: 0.5992 - accuracy: 0.7055 - val_loss: 0.6053 - val_accuracy: 0.6938 - lr: 0.0010\n",
      "Epoch 15/20\n",
      "50/50 [==============================] - 1s 17ms/step - loss: 0.5942 - accuracy: 0.7069 - val_loss: 0.6091 - val_accuracy: 0.6836 - lr: 0.0010\n",
      "Epoch 16/20\n",
      "50/50 [==============================] - 1s 17ms/step - loss: 0.5903 - accuracy: 0.7095 - val_loss: 0.6056 - val_accuracy: 0.6948 - lr: 0.0010\n",
      "Epoch 17/20\n",
      "50/50 [==============================] - 1s 21ms/step - loss: 0.5768 - accuracy: 0.7246 - val_loss: 0.6053 - val_accuracy: 0.6855 - lr: 2.0000e-04\n",
      "Epoch 18/20\n",
      "50/50 [==============================] - 1s 17ms/step - loss: 0.5730 - accuracy: 0.7274 - val_loss: 0.6041 - val_accuracy: 0.6914 - lr: 2.0000e-04\n",
      "Epoch 19/20\n",
      "50/50 [==============================] - 1s 16ms/step - loss: 0.5717 - accuracy: 0.7284 - val_loss: 0.6056 - val_accuracy: 0.6899 - lr: 2.0000e-04\n",
      "Epoch 20/20\n",
      "50/50 [==============================] - 1s 18ms/step - loss: 0.5686 - accuracy: 0.7310 - val_loss: 0.5986 - val_accuracy: 0.6987 - lr: 2.0000e-04\n"
     ]
    }
   ],
   "source": [
    "reduce_lr = ReduceLROnPlateau(monitor='val_loss', factor=0.2, patience=2, min_lr=1.e-6)\n",
    "history=model.fit(X_train, y_train,\\\n",
    "        batch_size=batch_size,\\\n",
    "        epochs=epochs,\\\n",
    "        validation_data=(X_valid, y_valid),\\\n",
    "        callbacks=[reduce_lr],\\\n",
    "        verbose=1, shuffle=True)"
   ]
  },
  {
   "cell_type": "markdown",
   "metadata": {
    "id": "bsQWFD0M86pA"
   },
   "source": [
    "## Train the Model\n",
    "### You may further optimize the model, tune hyper-parameters, etc. accordingly to achieve the best performance possible."
   ]
  },
  {
   "cell_type": "markdown",
   "metadata": {
    "id": "oLoN43278_-j"
   },
   "source": [
    "## Evaluate the Model  \n",
    "### Along with the model accuracy, the prefered metric for evaluation is ROC (Receiver Operating Characteristic) curve and the AUC score (Area under the ROC Curve)."
   ]
  },
  {
   "cell_type": "code",
   "execution_count": 10,
   "metadata": {
    "colab": {
     "base_uri": "https://localhost:8080/",
     "height": 153
    },
    "id": "ekuQLYas7xh5",
    "outputId": "2ff140d6-493c-4dd3-8891-2213a5ee11a4"
   },
   "outputs": [
    {
     "name": "stdout",
     "output_type": "stream",
     "text": [
      "64/64 [==============================] - 1s 4ms/step - loss: 0.5780 - accuracy: 0.7051\n",
      "\n",
      "Validation loss / accuracy: 0.5780 / 0.7051\n",
      "Validation ROC AUC: 0.7664356231689453\n",
      "64/64 [==============================] - 0s 4ms/step - loss: 0.5965 - accuracy: 0.6919\n",
      "\n",
      "Test loss / accuracy: 0.5965 / 0.6919\n",
      "Test ROC AUC: 0.7455120086669922\n"
     ]
    }
   ],
   "source": [
    "# Evaluate on validation set\n",
    "score = model.evaluate(X_valid, y_valid, verbose=1)\n",
    "print('\\nValidation loss / accuracy: %0.4f / %0.4f'%(score[0], score[1]))\n",
    "y_pred = model.predict(X_valid)\n",
    "fpr, tpr, _ = roc_curve(y_valid, y_pred)\n",
    "roc_auc = auc(fpr, tpr)\n",
    "print('Validation ROC AUC:', roc_auc)\n",
    "\n",
    "# Evaluate on test set\n",
    "score = model.evaluate(X_test, y_test, verbose=1)\n",
    "print('\\nTest loss / accuracy: %0.4f / %0.4f'%(score[0], score[1]))\n",
    "y_pred = model.predict(X_test)\n",
    "fpr, tpr, _ = roc_curve(y_test, y_pred)\n",
    "roc_auc = auc(fpr, tpr)\n",
    "print('Test ROC AUC:', roc_auc)"
   ]
  },
  {
   "cell_type": "code",
   "execution_count": 11,
   "metadata": {
    "colab": {
     "base_uri": "https://localhost:8080/",
     "height": 295
    },
    "id": "kmSRYI0R72Wn",
    "outputId": "f05db153-6b89-4c83-b654-124c5af9a7af"
   },
   "outputs": [
    {
     "data": {
      "image/png": "[encoded data removed]",
      "text/plain": [
       "<Figure size 432x288 with 1 Axes>"
      ]
     },
     "metadata": {
      "needs_background": "light"
     },
     "output_type": "display_data"
    }
   ],
   "source": [
    "plt.plot([0, 1], [0, 1], 'k--')\n",
    "#plt.legend(loc=2, prop={'size': 15})\n",
    "plt.plot(fpr, tpr, label='Model 1 (ROC-AUC = {:.3f})'.format(roc_auc))\n",
    "plt.xlabel('False positive rate')\n",
    "plt.ylabel('True positive rate')\n",
    "plt.title('ROC curve')\n",
    "plt.legend(loc='best')\n",
    "plt.show()"
   ]
  },
  {
   "cell_type": "code",
   "execution_count": 12,
   "metadata": {},
   "outputs": [],
   "source": [
    "from keras.models import Model"
   ]
  },
  {
   "cell_type": "code",
   "execution_count": 16,
   "metadata": {},
   "outputs": [],
   "source": [
    "encoder = Model(inputs=model.input, outputs=model.get_layer('dense_3').output)"
   ]
  },
  {
   "cell_type": "code",
   "execution_count": 17,
   "metadata": {},
   "outputs": [
    {
     "data": {
      "text/plain": [
       "<tf.Tensor: shape=(2048, 3), dtype=float32, numpy=\n",
       "array([[ 7.4932537 ,  0.        ,  0.        ],\n",
       "       [11.64368   ,  0.        ,  0.        ],\n",
       "       [ 6.1256204 ,  0.        ,  0.        ],\n",
       "       ...,\n",
       "       [ 1.1938204 ,  0.06124229,  0.33839992],\n",
       "       [ 8.706639  ,  0.        ,  0.        ],\n",
       "       [11.356891  ,  0.        ,  0.        ]], dtype=float32)>"
      ]
     },
     "execution_count": 17,
     "metadata": {},
     "output_type": "execute_result"
    }
   ],
   "source": [
    "encoder(X_valid)"
   ]
  },
  {
   "cell_type": "code",
   "execution_count": 18,
   "metadata": {},
   "outputs": [
    {
     "data": {
      "text/plain": [
       "<tf.Tensor: shape=(2048, 1), dtype=float32, numpy=\n",
       "array([[0.68677896],\n",
       "       [0.7661315 ],\n",
       "       [0.6576423 ],\n",
       "       ...,\n",
       "       [0.5383658 ],\n",
       "       [0.7114589 ],\n",
       "       [0.76112413]], dtype=float32)>"
      ]
     },
     "execution_count": 18,
     "metadata": {},
     "output_type": "execute_result"
    }
   ],
   "source": [
    "model(X_valid)"
   ]
  },
  {
   "cell_type": "code",
   "execution_count": null,
   "metadata": {},
   "outputs": [],
   "source": []
  }
 ],
 "metadata": {
  "accelerator": "GPU",
  "colab": {
   "name": "ParticleImages.ipynb",
   "provenance": [],
   "toc_visible": true
  },
  "kernelspec": {
   "display_name": "Python 3",
   "language": "python",
   "name": "python3"
  },
  "language_info": {
   "codemirror_mode": {
    "name": "ipython",
    "version": 3
   },
   "file_extension": ".py",
   "mimetype": "text/x-python",
   "name": "python",
   "nbconvert_exporter": "python",
   "pygments_lexer": "ipython3",
   "version": "3.8.8"
  }
 },
 "nbformat": 4,
 "nbformat_minor": 4
}
